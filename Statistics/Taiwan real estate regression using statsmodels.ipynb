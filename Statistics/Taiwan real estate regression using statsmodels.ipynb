{
 "cells": [
  {
   "cell_type": "code",
   "execution_count": 26,
   "metadata": {},
   "outputs": [],
   "source": [
    "import numpy as np\n",
    "import pandas as pd\n",
    "import matplotlib.pyplot as plt\n",
    "import seaborn as sns\n",
    "from statsmodels.formula.api import ols"
   ]
  },
  {
   "cell_type": "code",
   "execution_count": 27,
   "metadata": {},
   "outputs": [],
   "source": [
    "taiwan_real_estate = pd.read_csv('C:/Users/Renz/Documents/GitHub/dataScience/Statistics/taiwan_real_estate2.csv')"
   ]
  },
  {
   "cell_type": "code",
   "execution_count": 35,
   "metadata": {},
   "outputs": [
    {
     "name": "stdout",
     "output_type": "stream",
     "text": [
      "Intercept        8.224237\n",
      "n_convenience    0.798080\n",
      "dtype: float64\n"
     ]
    }
   ],
   "source": [
    "# Creating price vs. number of convenience store model\n",
    "mdl_price_vs_conv = ols('price_twd_msq ~ n_convenience', data=taiwan_real_estate)\n",
    "\n",
    "# Fitting Taiwanese dollar price vs. number of convenience store model\n",
    "mdl_price_vs_conv = mdl_price_vs_conv.fit()\n",
    "\n",
    "print(mdl_price_vs_conv.params)"
   ]
  },
  {
   "cell_type": "code",
   "execution_count": null,
   "metadata": {},
   "outputs": [],
   "source": [
    "# Visualising price_twd_msq split by the age of each house\n",
    "sns.displot(data=taiwan_real_estate,\n",
    "         x='price_twd_msq',\n",
    "         col='house_age_years',\n",
    "         bins=10)\n",
    "\n",
    "plt.show()"
   ]
  },
  {
   "cell_type": "code",
   "execution_count": 33,
   "metadata": {},
   "outputs": [
    {
     "name": "stdout",
     "output_type": "stream",
     "text": [
      "house_age_years\n",
      "0 to 15     12.637471\n",
      "15 to 30     9.876743\n",
      "30 to 45    11.393264\n",
      "Name: price_twd_msq, dtype: float64\n"
     ]
    }
   ],
   "source": [
    "# Calculating the mean of price_twd_msq by house age\n",
    "mean_price_by_age = taiwan_real_estate.groupby('house_age_years')['price_twd_msq'].mean()\n",
    "\n",
    "print(mean_price_by_age)"
   ]
  },
  {
   "cell_type": "code",
   "execution_count": 34,
   "metadata": {},
   "outputs": [
    {
     "name": "stdout",
     "output_type": "stream",
     "text": [
      "Intercept                      12.637471\n",
      "house_age_years[T.15 to 30]    -2.760728\n",
      "house_age_years[T.30 to 45]    -1.244207\n",
      "dtype: float64\n"
     ]
    }
   ],
   "source": [
    "# Creating and fitting price vs. house age model\n",
    "mdl_price_vs_age = ols('price_twd_msq ~ house_age_years', data=taiwan_real_estate).fit()\n",
    "\n",
    "print(mdl_price_vs_age.params)"
   ]
  },
  {
   "cell_type": "code",
   "execution_count": 31,
   "metadata": {},
   "outputs": [],
   "source": [
    "# Creating explanatory data\n",
    "explanatory_data = pd.DataFrame({'n_convenience': np.arange(0, 11)})"
   ]
  },
  {
   "cell_type": "code",
   "execution_count": 36,
   "metadata": {},
   "outputs": [],
   "source": [
    "# Using mdl_price_vs_conv to predict explanatory_data\n",
    "price_twd_msq = mdl_price_vs_conv.predict(explanatory_data)"
   ]
  },
  {
   "cell_type": "code",
   "execution_count": null,
   "metadata": {},
   "outputs": [],
   "source": [
    "# Creating prediction data\n",
    "prediction_data = explanatory_data.assign(\n",
    "    price_twd_msq = price_twd_msq\n",
    ")"
   ]
  },
  {
   "cell_type": "code",
   "execution_count": null,
   "metadata": {},
   "outputs": [],
   "source": [
    "# Creating price vs. convenience store model transformation\n"
   ]
  },
  {
   "cell_type": "code",
   "execution_count": null,
   "metadata": {},
   "outputs": [],
   "source": [
    "# Using mdl_price_vs_conv to predict with explanatory_data\n",
    "price_twd_msq = mdl_price_vs_conv.predict(explanatory_data)"
   ]
  }
 ],
 "metadata": {
  "kernelspec": {
   "display_name": "Python 3",
   "language": "python",
   "name": "python3"
  },
  "language_info": {
   "codemirror_mode": {
    "name": "ipython",
    "version": 3
   },
   "file_extension": ".py",
   "mimetype": "text/x-python",
   "name": "python",
   "nbconvert_exporter": "python",
   "pygments_lexer": "ipython3",
   "version": "3.12.2"
  }
 },
 "nbformat": 4,
 "nbformat_minor": 2
}
